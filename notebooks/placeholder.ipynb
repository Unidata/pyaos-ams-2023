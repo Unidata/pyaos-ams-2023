{
 "cells": [
  {
   "cell_type": "code",
   "execution_count": null,
   "id": "cade7b04-681b-4bdf-9655-fc2522e499b1",
   "metadata": {},
   "outputs": [],
   "source": [
    "import metpy"
   ]
  }
 ],
 "metadata": {
  "kernelspec": {
   "display_name": "Python [conda env:pyaos-ams-2023]",
   "language": "python",
   "name": "conda-env-pyaos-ams-2023-py"
  },
  "language_info": {
   "codemirror_mode": {
    "name": "ipython",
    "version": 3
   },
   "file_extension": ".py",
   "mimetype": "text/x-python",
   "name": "python",
   "nbconvert_exporter": "python",
   "pygments_lexer": "ipython3",
   "version": "3.10.6"
  }
 },
 "nbformat": 4,
 "nbformat_minor": 5
}
